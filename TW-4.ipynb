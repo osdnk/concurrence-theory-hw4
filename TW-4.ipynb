{
 "cells": [
  {
   "cell_type": "code",
   "execution_count": 33,
   "metadata": {},
   "outputs": [
    {
     "data": {
      "text/plain": [
       "defined \u001b[32mclass \u001b[36mTransVal\u001b[0m\n",
       "defined \u001b[32mclass \u001b[36mTransaction\u001b[0m\n",
       "\u001b[36mX\u001b[0m: \u001b[32m$user\u001b[0m.\u001b[32mTransVal\u001b[0m = cmd28$$user$TransVal@4b47601e\n",
       "\u001b[36mY\u001b[0m: \u001b[32m$user\u001b[0m.\u001b[32mTransVal\u001b[0m = cmd28$$user$TransVal@864448c\n",
       "\u001b[36mZ\u001b[0m: \u001b[32m$user\u001b[0m.\u001b[32mTransVal\u001b[0m = cmd28$$user$TransVal@4b02c8d1\n",
       "\u001b[36mV\u001b[0m: \u001b[32m$user\u001b[0m.\u001b[32mTransVal\u001b[0m = cmd28$$user$TransVal@745199b1\n",
       "\u001b[36mA\u001b[0m: \u001b[32m$user\u001b[0m.\u001b[32mTransaction\u001b[0m = \u001b[33mTransaction\u001b[0m(\n",
       "  cmd28$$user$TransVal@4b47601e,\n",
       "  \u001b[33mList\u001b[0m(cmd28$$user$TransVal@4b47601e, cmd28$$user$TransVal@864448c)\n",
       ")\n",
       "\u001b[36mB\u001b[0m: \u001b[32m$user\u001b[0m.\u001b[32mTransaction\u001b[0m = \u001b[33mTransaction\u001b[0m(\n",
       "  cmd28$$user$TransVal@864448c,\n",
       "  \u001b[33mList\u001b[0m(cmd28$$user$TransVal@864448c, cmd28$$user$TransVal@4b02c8d1)\n",
       ")\n",
       "\u001b[36mC\u001b[0m: \u001b[32m$user\u001b[0m.\u001b[32mTransaction\u001b[0m = \u001b[33mTransaction\u001b[0m(\n",
       "  cmd28$$user$TransVal@4b47601e,\n",
       "  \u001b[33mList\u001b[0m(cmd28$$user$TransVal@4b47601e, cmd28$$user$TransVal@4b02c8d1)\n",
       ")\n",
       "\u001b[36mD\u001b[0m: \u001b[32m$user\u001b[0m.\u001b[32mTransaction\u001b[0m = \u001b[33mTransaction\u001b[0m(\n",
       "  cmd28$$user$TransVal@4b02c8d1,\n",
       "  \u001b[33mList\u001b[0m(cmd28$$user$TransVal@864448c, cmd28$$user$TransVal@4b02c8d1)\n",
       ")\n",
       "\u001b[36mops\u001b[0m: \u001b[32mArray\u001b[0m[\u001b[32m$user\u001b[0m.\u001b[32mTransaction\u001b[0m] = \u001b[33mArray\u001b[0m(\n",
       "  \u001b[33mTransaction\u001b[0m(\n",
       "    cmd28$$user$TransVal@4b47601e,\n",
       "    \u001b[33mList\u001b[0m(cmd28$$user$TransVal@4b47601e, cmd28$$user$TransVal@864448c)\n",
       "  ),\n",
       "  \u001b[33mTransaction\u001b[0m(\n",
       "    cmd28$$user$TransVal@864448c,\n",
       "    \u001b[33mList\u001b[0m(cmd28$$user$TransVal@864448c, cmd28$$user$TransVal@4b02c8d1)\n",
       "  ),\n",
       "  \u001b[33mTransaction\u001b[0m(\n",
       "    cmd28$$user$TransVal@4b47601e,\n",
       "    \u001b[33mList\u001b[0m(cmd28$$user$TransVal@4b47601e, cmd28$$user$TransVal@4b02c8d1)\n",
       "  ),\n",
       "  \u001b[33mTransaction\u001b[0m(\n",
       "    cmd28$$user$TransVal@4b02c8d1,\n",
       "\u001b[33m...\u001b[0m\n",
       "\u001b[36mword\u001b[0m: \u001b[32mArray\u001b[0m[\u001b[32m$user\u001b[0m.\u001b[32mTransaction\u001b[0m] = \u001b[33mArray\u001b[0m(\n",
       "  \u001b[33mTransaction\u001b[0m(\n",
       "    cmd28$$user$TransVal@864448c,\n",
       "    \u001b[33mList\u001b[0m(cmd28$$user$TransVal@864448c, cmd28$$user$TransVal@4b02c8d1)\n",
       "  ),\n",
       "  \u001b[33mTransaction\u001b[0m(\n",
       "    cmd28$$user$TransVal@4b47601e,\n",
       "    \u001b[33mList\u001b[0m(cmd28$$user$TransVal@4b47601e, cmd28$$user$TransVal@864448c)\n",
       "  ),\n",
       "  \u001b[33mTransaction\u001b[0m(\n",
       "    cmd28$$user$TransVal@4b47601e,\n",
       "    \u001b[33mList\u001b[0m(cmd28$$user$TransVal@4b47601e, cmd28$$user$TransVal@864448c)\n",
       "  ),\n",
       "  \u001b[33mTransaction\u001b[0m(\n",
       "    cmd28$$user$TransVal@4b02c8d1,\n",
       "\u001b[33m...\u001b[0m"
      ]
     },
     "metadata": {},
     "output_type": "display_data"
    }
   ],
   "source": [
    "class TransVal()\n",
    "case class Transaction(assignedVar: TransVal, readVars: List[TransVal]) {\n",
    "  def isDependentOn(other: Transaction): Boolean = {\n",
    "    other.readVars.contains(this.assignedVar) ||\n",
    "      this.readVars.contains(other.assignedVar) ||\n",
    "      this.assignedVar == other.assignedVar\n",
    "  }\n",
    "\n",
    "  def isIndependentOn(other: Transaction): Boolean = !isDependentOn(other)\n",
    "}\n",
    "\n",
    "val X = new TransVal()\n",
    "val Y = new TransVal()\n",
    "val Z = new TransVal()\n",
    "val V = new TransVal()\n",
    "\n",
    "val A = Transaction(X, List(X, Y))\n",
    "val B = Transaction(Y, List(Y, Z))\n",
    "val C = Transaction(X, List(X, Z))\n",
    "val D = Transaction(Z, List(Y, Z))\n",
    "\n",
    "val ops = Array(A, B, C, D)\n",
    "\n",
    "val word = Array(B,A,A,D,C,B)"
   ]
  },
  {
   "cell_type": "code",
   "execution_count": 34,
   "metadata": {},
   "outputs": [
    {
     "data": {
      "text/plain": [
       "\u001b[36mD\u001b[0m: \u001b[32mArray\u001b[0m[\u001b[32mArray\u001b[0m[\u001b[32mBoolean\u001b[0m]] = \u001b[33mArray\u001b[0m(\n",
       "  \u001b[33mArray\u001b[0m(true, true, true, false),\n",
       "  \u001b[33mArray\u001b[0m(true, true, false, true),\n",
       "  \u001b[33mArray\u001b[0m(true, false, true, true),\n",
       "  \u001b[33mArray\u001b[0m(false, true, true, true)\n",
       ")"
      ]
     },
     "metadata": {},
     "output_type": "display_data"
    }
   ],
   "source": [
    "val D = ops.map(i => ops.map(o => i.isDependentOn(o)))"
   ]
  },
  {
   "cell_type": "code",
   "execution_count": 35,
   "metadata": {},
   "outputs": [
    {
     "data": {
      "text/plain": [
       "\u001b[36mI\u001b[0m: \u001b[32mArray\u001b[0m[\u001b[32mArray\u001b[0m[\u001b[32mBoolean\u001b[0m]] = \u001b[33mArray\u001b[0m(\n",
       "  \u001b[33mArray\u001b[0m(false, false, false, true),\n",
       "  \u001b[33mArray\u001b[0m(false, false, true, false),\n",
       "  \u001b[33mArray\u001b[0m(false, true, false, false),\n",
       "  \u001b[33mArray\u001b[0m(true, false, false, false)\n",
       ")"
      ]
     },
     "metadata": {},
     "output_type": "display_data"
    }
   ],
   "source": [
    "val I = ops.map(i => ops.map(o => i.isIndependentOn(o)))"
   ]
  },
  {
   "cell_type": "code",
   "execution_count": 36,
   "metadata": {},
   "outputs": [
    {
     "data": {
      "text/plain": [
       "\u001b[36mm\u001b[0m: \u001b[32mTransVal\u001b[0m = cmd28$$user$TransVal@1ee80977"
      ]
     },
     "metadata": {},
     "output_type": "display_data"
    }
   ],
   "source": [
    "val m = new TransVal()"
   ]
  },
  {
   "cell_type": "code",
   "execution_count": 37,
   "metadata": {},
   "outputs": [
    {
     "data": {
      "text/plain": [
       "defined \u001b[32mclass \u001b[36mStep\u001b[0m"
      ]
     },
     "metadata": {},
     "output_type": "display_data"
    }
   ],
   "source": [
    "class Step(val t: Transaction, val i: Integer)"
   ]
  },
  {
   "cell_type": "code",
   "execution_count": 38,
   "metadata": {},
   "outputs": [
    {
     "data": {
      "text/plain": [
       "\u001b[36mww\u001b[0m: \u001b[32mArray\u001b[0m[\u001b[32mStep\u001b[0m] = \u001b[33mArray\u001b[0m(\n",
       "  cmd32$$user$Step@6dea632e,\n",
       "  cmd32$$user$Step@17dab7ed,\n",
       "  cmd32$$user$Step@7e2e6e57,\n",
       "  cmd32$$user$Step@7c3b92e4,\n",
       "  cmd32$$user$Step@42f67d5e,\n",
       "  cmd32$$user$Step@51cf32\n",
       ")"
      ]
     },
     "metadata": {},
     "output_type": "display_data"
    }
   ],
   "source": [
    "\n",
    "val ww = word.zipWithIndex.map(x => new Step(x._1, x._2))\n"
   ]
  },
  {
   "cell_type": "code",
   "execution_count": 39,
   "metadata": {},
   "outputs": [
    {
     "data": {
      "text/plain": [
       "\u001b[36mnonqueue\u001b[0m: \u001b[32mArray\u001b[0m[(\u001b[32mStep\u001b[0m, \u001b[32mInt\u001b[0m)] = \u001b[33mArray\u001b[0m(\n",
       "  \u001b[33m\u001b[0m(cmd32$$user$Step@6dea632e, \u001b[32m0\u001b[0m),\n",
       "  \u001b[33m\u001b[0m(cmd32$$user$Step@17dab7ed, \u001b[32m0\u001b[0m),\n",
       "  \u001b[33m\u001b[0m(cmd32$$user$Step@7e2e6e57, \u001b[32m0\u001b[0m),\n",
       "  \u001b[33m\u001b[0m(cmd32$$user$Step@7c3b92e4, \u001b[32m0\u001b[0m),\n",
       "  \u001b[33m\u001b[0m(cmd32$$user$Step@42f67d5e, \u001b[32m0\u001b[0m),\n",
       "  \u001b[33m\u001b[0m(cmd32$$user$Step@51cf32, \u001b[32m0\u001b[0m)\n",
       ")"
      ]
     },
     "metadata": {},
     "output_type": "display_data"
    }
   ],
   "source": [
    "val nonqueue = ww.map(w => (w,0))"
   ]
  },
  {
   "cell_type": "code",
   "execution_count": 40,
   "metadata": {},
   "outputs": [
    {
     "data": {
      "text/plain": [
       "defined \u001b[32mfunction \u001b[36mappotife\u001b[0m"
      ]
     },
     "metadata": {},
     "output_type": "display_data"
    }
   ],
   "source": [
    "def appotife(ar:Array[(Step, Int)], v: Step) : Array[(Step, Int)] = {\n",
    "    ar.map(o => o match {\n",
    "        case o if (o._1.i < v.i) => o\n",
    "        case o if o._1 == v  => o\n",
    "        case o if o._1.t.isDependentOn(v.t) => (o._1, o._2 + 1)\n",
    "        case o => o\n",
    "    })\n",
    "}"
   ]
  },
  {
   "cell_type": "code",
   "execution_count": 42,
   "metadata": {},
   "outputs": [
    {
     "data": {
      "text/plain": [
       "\u001b[36mqued\u001b[0m: \u001b[32mArray\u001b[0m[(\u001b[32mStep\u001b[0m, \u001b[32mInt\u001b[0m)] = \u001b[33mArray\u001b[0m(\n",
       "  \u001b[33m\u001b[0m(cmd32$$user$Step@6dea632e, \u001b[32m0\u001b[0m),\n",
       "  \u001b[33m\u001b[0m(cmd32$$user$Step@17dab7ed, \u001b[32m1\u001b[0m),\n",
       "  \u001b[33m\u001b[0m(cmd32$$user$Step@7e2e6e57, \u001b[32m2\u001b[0m),\n",
       "  \u001b[33m\u001b[0m(cmd32$$user$Step@7c3b92e4, \u001b[32m1\u001b[0m),\n",
       "  \u001b[33m\u001b[0m(cmd32$$user$Step@42f67d5e, \u001b[32m3\u001b[0m),\n",
       "  \u001b[33m\u001b[0m(cmd32$$user$Step@51cf32, \u001b[32m4\u001b[0m)\n",
       ")"
      ]
     },
     "metadata": {},
     "output_type": "display_data"
    }
   ],
   "source": [
    "val qued = ww.foldLeft(nonqueue)((acc, i) => appotife(acc, i))"
   ]
  },
  {
   "cell_type": "code",
   "execution_count": 44,
   "metadata": {},
   "outputs": [
    {
     "data": {
      "text/plain": [
       "defined \u001b[32mfunction \u001b[36mdeporique\u001b[0m"
      ]
     },
     "metadata": {},
     "output_type": "display_data"
    }
   ],
   "source": [
    "def deporique(ar:Array[(Step, Int)]) : (Array[Step], Array[(Step, Int)]) = {\n",
    "    val fl = ar.filter(o => o._2 == 0).map(g => g._1)\n",
    "    val ot = ar.filter(o => o._2 > 0)\n",
    "    val ott = ot.map(o => (o._1, o._2 - fl.count(f => f.t.isDependentOn(o._1.t) && f.i < o._1.i)))\n",
    "    (fl, ott)\n",
    "}"
   ]
  },
  {
   "cell_type": "code",
   "execution_count": 45,
   "metadata": {},
   "outputs": [
    {
     "data": {
      "text/plain": [
       "defined \u001b[32mfunction \u001b[36mveriquev\u001b[0m"
      ]
     },
     "metadata": {},
     "output_type": "display_data"
    }
   ],
   "source": [
    "def veriquev(a : Array[(Step, Int)], ff: Array[Array[Step]]):Array[Array[Step]] = {\n",
    "    if (a.length == 0) {\n",
    "        //sorry\n",
    "        return ff\n",
    "    } else {\n",
    "        val h = deporique(a)\n",
    "        return veriquev(h._2, ff:+h._1)\n",
    "    }\n",
    "}\n",
    "\n"
   ]
  },
  {
   "cell_type": "code",
   "execution_count": 46,
   "metadata": {},
   "outputs": [
    {
     "data": {
      "text/plain": [
       "\u001b[36my\u001b[0m: \u001b[32mArray\u001b[0m[\u001b[32mArray\u001b[0m[\u001b[32mStep\u001b[0m]] = \u001b[33mArray\u001b[0m(\n",
       "  \u001b[33mArray\u001b[0m(cmd32$$user$Step@6dea632e),\n",
       "  \u001b[33mArray\u001b[0m(cmd32$$user$Step@17dab7ed, cmd32$$user$Step@7c3b92e4),\n",
       "  \u001b[33mArray\u001b[0m(cmd32$$user$Step@7e2e6e57),\n",
       "  \u001b[33mArray\u001b[0m(cmd32$$user$Step@42f67d5e, cmd32$$user$Step@51cf32)\n",
       ")"
      ]
     },
     "metadata": {},
     "output_type": "display_data"
    }
   ],
   "source": [
    "val y = veriquev(qued, Array.empty[Array[Step]])"
   ]
  },
  {
   "cell_type": "code",
   "execution_count": 47,
   "metadata": {},
   "outputs": [
    {
     "data": {
      "text/plain": [
       "\u001b[36mres41\u001b[0m: \u001b[32mArray\u001b[0m[\u001b[32mArray\u001b[0m[\u001b[32mInteger\u001b[0m]] = \u001b[33mArray\u001b[0m(\u001b[33mArray\u001b[0m(0), \u001b[33mArray\u001b[0m(1, 3), \u001b[33mArray\u001b[0m(2), \u001b[33mArray\u001b[0m(4, 5))"
      ]
     },
     "metadata": {},
     "output_type": "display_data"
    }
   ],
   "source": [
    "y.map(u => u.map(s => s.i))\n",
    "// Yay"
   ]
  },
  {
   "cell_type": "code",
   "execution_count": 48,
   "metadata": {},
   "outputs": [
    {
     "data": {
      "text/plain": [
       "\u001b[36mdeps\u001b[0m: \u001b[32mArray\u001b[0m[\u001b[32mArray\u001b[0m[\u001b[32mBoolean\u001b[0m]] = \u001b[33mArray\u001b[0m(\n",
       "  \u001b[33mArray\u001b[0m(false, false, false, false, false, false),\n",
       "  \u001b[33mArray\u001b[0m(true, false, false, false, false, false),\n",
       "  \u001b[33mArray\u001b[0m(true, true, false, false, false, false),\n",
       "  \u001b[33mArray\u001b[0m(true, false, false, false, false, false),\n",
       "  \u001b[33mArray\u001b[0m(false, true, true, true, false, false),\n",
       "  \u001b[33mArray\u001b[0m(true, true, true, true, false, false)\n",
       ")"
      ]
     },
     "metadata": {},
     "output_type": "display_data"
    }
   ],
   "source": [
    "val deps = ww.map(w => ww.map(o => w.t.isDependentOn(o.t) && w.i > o.i))"
   ]
  },
  {
   "cell_type": "code",
   "execution_count": 49,
   "metadata": {},
   "outputs": [
    {
     "data": {
      "text/plain": [
       "\u001b[32mimport \u001b[36mscala.collection.mutable.ArrayBuffer\u001b[0m\n",
       "\u001b[36misAnythingChanged\u001b[0m: \u001b[32mBoolean\u001b[0m = false\n",
       "\u001b[36mD2\u001b[0m: \u001b[32mArrayBuffer\u001b[0m[\u001b[32mArrayBuffer\u001b[0m[\u001b[32mBoolean\u001b[0m]] = \u001b[33mArrayBuffer\u001b[0m(\n",
       "  \u001b[33mArrayBuffer\u001b[0m(false, false, false, false, false, false),\n",
       "  \u001b[33mArrayBuffer\u001b[0m(false, false, false, false, false, false),\n",
       "  \u001b[33mArrayBuffer\u001b[0m(true, false, false, false, false, false),\n",
       "  \u001b[33mArrayBuffer\u001b[0m(false, false, false, false, false, false),\n",
       "  \u001b[33mArrayBuffer\u001b[0m(true, true, false, false, false, false),\n",
       "  \u001b[33mArrayBuffer\u001b[0m(true, true, false, false, false, false)\n",
       ")"
      ]
     },
     "metadata": {},
     "output_type": "display_data"
    }
   ],
   "source": [
    "import scala.collection.mutable.ArrayBuffer\n",
    "\n",
    "var isAnythingChanged : Boolean = true\n",
    "val D2 = ArrayBuffer[ArrayBuffer[Boolean]]()\n",
    "for (y1 <- deps.indices) {\n",
    "    D2 += ArrayBuffer[Boolean]()\n",
    "    for (x1 <- deps(y1).indices) {\n",
    "        D2(y1) += false;\n",
    "    }\n",
    "}\n",
    "\n",
    "\n",
    "\n",
    "while (isAnythingChanged) {\n",
    "    val cp = D2.map(o => o.map(x => x))\n",
    "    for (y1 <- deps.indices) {\n",
    "        for (x1 <- deps(y1).indices) {\n",
    "            for (w <- deps.indices) {\n",
    "                D2(y1)(x1) = D2(y1)(x1) || (deps(y1)(w) && deps(w)(x1) && y1 > w && w > x1)\n",
    "            }\n",
    "        }\n",
    "    }\n",
    "    \n",
    "    isAnythingChanged = false\n",
    "    \n",
    "    for (y1 <- deps.indices) {\n",
    "        for (x1 <- deps(y1).indices) {\n",
    "            isAnythingChanged = isAnythingChanged || D2(y1)(x1) != cp(y1)(x1)\n",
    "        }\n",
    "    }\n",
    "}\n",
    "\n"
   ]
  },
  {
   "cell_type": "code",
   "execution_count": 50,
   "metadata": {},
   "outputs": [
    {
     "data": {
      "text/plain": [
       "\u001b[36mindirDeps\u001b[0m: \u001b[32mArrayBuffer\u001b[0m[\u001b[32mArrayBuffer\u001b[0m[\u001b[32mBoolean\u001b[0m]] = \u001b[33mArrayBuffer\u001b[0m(\n",
       "  \u001b[33mArrayBuffer\u001b[0m(false, false, false, false, false, false),\n",
       "  \u001b[33mArrayBuffer\u001b[0m(true, false, false, false, false, false),\n",
       "  \u001b[33mArrayBuffer\u001b[0m(false, true, false, false, false, false),\n",
       "  \u001b[33mArrayBuffer\u001b[0m(true, false, false, false, false, false),\n",
       "  \u001b[33mArrayBuffer\u001b[0m(false, false, true, true, false, false),\n",
       "  \u001b[33mArrayBuffer\u001b[0m(false, false, true, true, false, false)\n",
       ")"
      ]
     },
     "metadata": {},
     "output_type": "display_data"
    }
   ],
   "source": [
    "val indirDeps = ArrayBuffer[ArrayBuffer[Boolean]]()\n",
    "for (y1 <- deps.indices) {\n",
    "    indirDeps += ArrayBuffer[Boolean]()\n",
    "    for (x1 <- deps(y1).indices) {\n",
    "        indirDeps(y1) += false;\n",
    "    }\n",
    "}\n",
    "\n",
    "for (y1 <- deps.indices) {\n",
    "    for (x1 <- deps(y1).indices) {\n",
    "        indirDeps(y1)(x1) = deps(y1)(x1) && !D2(y1)(x1)\n",
    "    }\n",
    "}"
   ]
  },
  {
   "cell_type": "code",
   "execution_count": 51,
   "metadata": {},
   "outputs": [
    {
     "name": "stdout",
     "output_type": "stream",
     "text": [
      "http://www.webgraphviz.com/\n",
      "digraph G {\n",
      "  0 -> 1\n",
      "  1 -> 2\n",
      "  0 -> 3\n",
      "  2 -> 4\n",
      "  3 -> 4\n",
      "  2 -> 5\n",
      "  3 -> 5\n",
      "}\n"
     ]
    },
    {
     "data": {
      "text/plain": []
     },
     "metadata": {},
     "output_type": "display_data"
    }
   ],
   "source": [
    "println(\"http://www.webgraphviz.com/\")\n",
    "println(\"digraph G {\")\n",
    "for (y1 <- indirDeps.indices) {\n",
    "    for (x1 <- indirDeps(y1).indices) {\n",
    "        if (indirDeps(y1)(x1)) {\n",
    "            println(\"  \" + x1 + \" -> \" + y1)\n",
    "        }\n",
    "    }\n",
    "}\n",
    "println(\"}\")"
   ]
  },
  {
   "cell_type": "code",
   "execution_count": 53,
   "metadata": {},
   "outputs": [
    {
     "name": "stdout",
     "output_type": "stream",
     "text": [
      "\n",
      "[0 ]\n",
      "\n",
      "[1 3 ]\n",
      "\n",
      "[2 ]\n",
      "\n",
      "[4 5 ]\n"
     ]
    },
    {
     "data": {
      "text/plain": [
       "\u001b[36mpardeps\u001b[0m: \u001b[32mArrayBuffer\u001b[0m[(\u001b[32mInt\u001b[0m, \u001b[32mInt\u001b[0m)] = \u001b[33mArrayBuffer\u001b[0m()\n",
       "\u001b[36mwds\u001b[0m: \u001b[32mArray\u001b[0m[\u001b[32mInteger\u001b[0m] = \u001b[33mArray\u001b[0m(0, 1, 2, 3, 4, 5)\n",
       "\u001b[36mprinted\u001b[0m: \u001b[32mArrayBuffer\u001b[0m[\u001b[32mInt\u001b[0m] = \u001b[33mArrayBuffer\u001b[0m(\u001b[32m0\u001b[0m, \u001b[32m1\u001b[0m, \u001b[32m3\u001b[0m, \u001b[32m2\u001b[0m, \u001b[32m4\u001b[0m, \u001b[32m5\u001b[0m)\n",
       "\u001b[36mdoItOnceMore\u001b[0m: \u001b[32mBoolean\u001b[0m = false"
      ]
     },
     "metadata": {},
     "output_type": "display_data"
    }
   ],
   "source": [
    "var pardeps = ArrayBuffer[(Int, Int)]()\n",
    "for (y1 <- indirDeps.indices) {\n",
    "    for (x1 <- indirDeps(y1).indices) {\n",
    "        if (indirDeps(y1)(x1)) {\n",
    "            pardeps += ((x1, y1))\n",
    "        }\n",
    "    }\n",
    "}\n",
    "\n",
    "var wds = ww.map(w => w.i)\n",
    "\n",
    "val printed = ArrayBuffer[Int]()\n",
    "\n",
    "var doItOnceMore = true\n",
    "\n",
    "while (pardeps.length != 0 || doItOnceMore){\n",
    "    if (pardeps.length == 0) {\n",
    "        doItOnceMore = false\n",
    "    }\n",
    "    var floatable = wds.filter(w => pardeps.count(p => p._2 == w) == 0 && !printed.contains(w))\n",
    "    println(\"\")\n",
    "    print(\"[\")\n",
    "    for (y1 <- floatable) {\n",
    "        printed += y1;\n",
    "        print(y1 + \" \")\n",
    "    }\n",
    "    print(\"]\")\n",
    "    println(\"\")\n",
    "    pardeps = pardeps.filter(p => floatable.count(w => w == p._1) == 0)\n",
    "}\n"
   ]
  }
 ],
 "metadata": {
  "kernelspec": {
   "display_name": "Scala 2.11",
   "language": "scala211",
   "name": "scala211"
  },
  "language_info": {
   "codemirror_mode": "text/x-scala",
   "file_extension": ".scala",
   "mimetype": "text/x-scala",
   "name": "scala211",
   "pygments_lexer": "scala",
   "version": "2.11.6"
  }
 },
 "nbformat": 4,
 "nbformat_minor": 2
}
