{
 "cells": [
  {
   "cell_type": "code",
   "execution_count": 1,
   "metadata": {},
   "outputs": [
    {
     "data": {
      "text/plain": [
       "defined \u001b[32mclass \u001b[36mTransVal\u001b[0m\n",
       "defined \u001b[32mclass \u001b[36mTransaction\u001b[0m\n",
       "\u001b[36mX\u001b[0m: \u001b[32m$user\u001b[0m.\u001b[32mTransVal\u001b[0m = cmd0$$user$TransVal@49b8826\n",
       "\u001b[36mY\u001b[0m: \u001b[32m$user\u001b[0m.\u001b[32mTransVal\u001b[0m = cmd0$$user$TransVal@592544b7\n",
       "\u001b[36mZ\u001b[0m: \u001b[32m$user\u001b[0m.\u001b[32mTransVal\u001b[0m = cmd0$$user$TransVal@19185220\n",
       "\u001b[36mV\u001b[0m: \u001b[32m$user\u001b[0m.\u001b[32mTransVal\u001b[0m = cmd0$$user$TransVal@21f541b3\n",
       "\u001b[36mA\u001b[0m: \u001b[32m$user\u001b[0m.\u001b[32mTransaction\u001b[0m = \u001b[33mTransaction\u001b[0m(\n",
       "  cmd0$$user$TransVal@49b8826,\n",
       "  \u001b[33mList\u001b[0m(cmd0$$user$TransVal@49b8826, cmd0$$user$TransVal@592544b7)\n",
       ")\n",
       "\u001b[36mB\u001b[0m: \u001b[32m$user\u001b[0m.\u001b[32mTransaction\u001b[0m = \u001b[33mTransaction\u001b[0m(\n",
       "  cmd0$$user$TransVal@592544b7,\n",
       "  \u001b[33mList\u001b[0m(cmd0$$user$TransVal@592544b7, cmd0$$user$TransVal@19185220)\n",
       ")\n",
       "\u001b[36mC\u001b[0m: \u001b[32m$user\u001b[0m.\u001b[32mTransaction\u001b[0m = \u001b[33mTransaction\u001b[0m(\n",
       "  cmd0$$user$TransVal@49b8826,\n",
       "  \u001b[33mList\u001b[0m(cmd0$$user$TransVal@49b8826, cmd0$$user$TransVal@19185220)\n",
       ")\n",
       "\u001b[36mD\u001b[0m: \u001b[32m$user\u001b[0m.\u001b[32mTransaction\u001b[0m = \u001b[33mTransaction\u001b[0m(\n",
       "  cmd0$$user$TransVal@19185220,\n",
       "  \u001b[33mList\u001b[0m(cmd0$$user$TransVal@592544b7, cmd0$$user$TransVal@19185220)\n",
       ")\n",
       "\u001b[36mops\u001b[0m: \u001b[32mArray\u001b[0m[\u001b[32m$user\u001b[0m.\u001b[32mTransaction\u001b[0m] = \u001b[33mArray\u001b[0m(\n",
       "  \u001b[33mTransaction\u001b[0m(\n",
       "    cmd0$$user$TransVal@49b8826,\n",
       "    \u001b[33mList\u001b[0m(cmd0$$user$TransVal@49b8826, cmd0$$user$TransVal@592544b7)\n",
       "  ),\n",
       "  \u001b[33mTransaction\u001b[0m(\n",
       "    cmd0$$user$TransVal@592544b7,\n",
       "    \u001b[33mList\u001b[0m(cmd0$$user$TransVal@592544b7, cmd0$$user$TransVal@19185220)\n",
       "  ),\n",
       "  \u001b[33mTransaction\u001b[0m(\n",
       "    cmd0$$user$TransVal@49b8826,\n",
       "    \u001b[33mList\u001b[0m(cmd0$$user$TransVal@49b8826, cmd0$$user$TransVal@19185220)\n",
       "  ),\n",
       "  \u001b[33mTransaction\u001b[0m(\n",
       "    cmd0$$user$TransVal@19185220,\n",
       "\u001b[33m...\u001b[0m\n",
       "\u001b[36mword\u001b[0m: \u001b[32mArray\u001b[0m[\u001b[32m$user\u001b[0m.\u001b[32mTransaction\u001b[0m] = \u001b[33mArray\u001b[0m(\n",
       "  \u001b[33mTransaction\u001b[0m(\n",
       "    cmd0$$user$TransVal@592544b7,\n",
       "    \u001b[33mList\u001b[0m(cmd0$$user$TransVal@592544b7, cmd0$$user$TransVal@19185220)\n",
       "  ),\n",
       "  \u001b[33mTransaction\u001b[0m(\n",
       "    cmd0$$user$TransVal@49b8826,\n",
       "    \u001b[33mList\u001b[0m(cmd0$$user$TransVal@49b8826, cmd0$$user$TransVal@592544b7)\n",
       "  ),\n",
       "  \u001b[33mTransaction\u001b[0m(\n",
       "    cmd0$$user$TransVal@49b8826,\n",
       "    \u001b[33mList\u001b[0m(cmd0$$user$TransVal@49b8826, cmd0$$user$TransVal@592544b7)\n",
       "  ),\n",
       "  \u001b[33mTransaction\u001b[0m(\n",
       "    cmd0$$user$TransVal@19185220,\n",
       "\u001b[33m...\u001b[0m"
      ]
     },
     "metadata": {},
     "output_type": "display_data"
    }
   ],
   "source": [
    "// Defining input\n",
    "class TransVal()\n",
    "case class Transaction(assignedVar: TransVal, readVars: List[TransVal]) {\n",
    "  def isDependentOn(other: Transaction): Boolean = {\n",
    "    other.readVars.contains(this.assignedVar) ||\n",
    "      this.readVars.contains(other.assignedVar) ||\n",
    "      this.assignedVar == other.assignedVar\n",
    "  }\n",
    "\n",
    "  def isIndependentOn(other: Transaction): Boolean = !isDependentOn(other)\n",
    "}\n",
    "\n",
    "val X = new TransVal()\n",
    "val Y = new TransVal()\n",
    "val Z = new TransVal()\n",
    "val V = new TransVal()\n",
    "\n",
    "val A = Transaction(X, List(X, Y))\n",
    "val B = Transaction(Y, List(Y, Z))\n",
    "val C = Transaction(X, List(X, Z))\n",
    "val D = Transaction(Z, List(Y, Z))\n",
    "\n",
    "val ops = Array(A, B, C, D)\n",
    "\n",
    "val word = Array(B,A,A,D,C,B)"
   ]
  },
  {
   "cell_type": "code",
   "execution_count": 2,
   "metadata": {},
   "outputs": [
    {
     "data": {
      "text/plain": [
       "\u001b[36mD\u001b[0m: \u001b[32mArray\u001b[0m[\u001b[32mArray\u001b[0m[\u001b[32mBoolean\u001b[0m]] = \u001b[33mArray\u001b[0m(\n",
       "  \u001b[33mArray\u001b[0m(true, true, true, false),\n",
       "  \u001b[33mArray\u001b[0m(true, true, false, true),\n",
       "  \u001b[33mArray\u001b[0m(true, false, true, true),\n",
       "  \u001b[33mArray\u001b[0m(false, true, true, true)\n",
       ")"
      ]
     },
     "metadata": {},
     "output_type": "display_data"
    }
   ],
   "source": [
    "// deps\n",
    "val D = ops.map(i => ops.map(o => i.isDependentOn(o)))"
   ]
  },
  {
   "cell_type": "code",
   "execution_count": 3,
   "metadata": {},
   "outputs": [
    {
     "data": {
      "text/plain": [
       "\u001b[36mI\u001b[0m: \u001b[32mArray\u001b[0m[\u001b[32mArray\u001b[0m[\u001b[32mBoolean\u001b[0m]] = \u001b[33mArray\u001b[0m(\n",
       "  \u001b[33mArray\u001b[0m(false, false, false, true),\n",
       "  \u001b[33mArray\u001b[0m(false, false, true, false),\n",
       "  \u001b[33mArray\u001b[0m(false, true, false, false),\n",
       "  \u001b[33mArray\u001b[0m(true, false, false, false)\n",
       ")"
      ]
     },
     "metadata": {},
     "output_type": "display_data"
    }
   ],
   "source": [
    "val I = ops.map(i => ops.map(o => i.isIndependentOn(o)))"
   ]
  },
  {
   "cell_type": "code",
   "execution_count": 4,
   "metadata": {},
   "outputs": [
    {
     "data": {
      "text/plain": [
       "defined \u001b[32mclass \u001b[36mStep\u001b[0m"
      ]
     },
     "metadata": {},
     "output_type": "display_data"
    }
   ],
   "source": [
    "class Step(val t: Transaction, val i: Integer)"
   ]
  },
  {
   "cell_type": "code",
   "execution_count": 5,
   "metadata": {},
   "outputs": [
    {
     "data": {
      "text/plain": [
       "\u001b[36mww\u001b[0m: \u001b[32mArray\u001b[0m[\u001b[32mStep\u001b[0m] = \u001b[33mArray\u001b[0m(\n",
       "  cmd3$$user$Step@7b826543,\n",
       "  cmd3$$user$Step@2da2e31c,\n",
       "  cmd3$$user$Step@71713e07,\n",
       "  cmd3$$user$Step@19a269af,\n",
       "  cmd3$$user$Step@7162afa5,\n",
       "  cmd3$$user$Step@4be20896\n",
       ")"
      ]
     },
     "metadata": {},
     "output_type": "display_data"
    }
   ],
   "source": [
    "\n",
    "val ww = word.zipWithIndex.map(x => new Step(x._1, x._2))\n"
   ]
  },
  {
   "cell_type": "code",
   "execution_count": 6,
   "metadata": {},
   "outputs": [
    {
     "data": {
      "text/plain": [
       "\u001b[36mnonqueue\u001b[0m: \u001b[32mArray\u001b[0m[(\u001b[32mStep\u001b[0m, \u001b[32mInt\u001b[0m)] = \u001b[33mArray\u001b[0m(\n",
       "  \u001b[33m\u001b[0m(cmd3$$user$Step@7b826543, \u001b[32m0\u001b[0m),\n",
       "  \u001b[33m\u001b[0m(cmd3$$user$Step@2da2e31c, \u001b[32m0\u001b[0m),\n",
       "  \u001b[33m\u001b[0m(cmd3$$user$Step@71713e07, \u001b[32m0\u001b[0m),\n",
       "  \u001b[33m\u001b[0m(cmd3$$user$Step@19a269af, \u001b[32m0\u001b[0m),\n",
       "  \u001b[33m\u001b[0m(cmd3$$user$Step@7162afa5, \u001b[32m0\u001b[0m),\n",
       "  \u001b[33m\u001b[0m(cmd3$$user$Step@4be20896, \u001b[32m0\u001b[0m)\n",
       ")"
      ]
     },
     "metadata": {},
     "output_type": "display_data"
    }
   ],
   "source": [
    "// initial monad \n",
    "val nonqueue = ww.map(w => (w,0))"
   ]
  },
  {
   "cell_type": "code",
   "execution_count": 7,
   "metadata": {},
   "outputs": [
    {
     "data": {
      "text/plain": [
       "defined \u001b[32mfunction \u001b[36mstackify\u001b[0m"
      ]
     },
     "metadata": {},
     "output_type": "display_data"
    }
   ],
   "source": [
    "def stackify(ar:Array[(Step, Int)], v: Step) : Array[(Step, Int)] = {\n",
    "    ar.map(o => o match {\n",
    "        case o if (o._1.i < v.i) => o\n",
    "        case o if o._1 == v  => o\n",
    "        case o if o._1.t.isDependentOn(v.t) => (o._1, o._2 + 1)\n",
    "        case o => o\n",
    "    })\n",
    "}"
   ]
  },
  {
   "cell_type": "code",
   "execution_count": 8,
   "metadata": {},
   "outputs": [
    {
     "data": {
      "text/plain": [
       "\u001b[36mqued\u001b[0m: \u001b[32mArray\u001b[0m[(\u001b[32mStep\u001b[0m, \u001b[32mInt\u001b[0m)] = \u001b[33mArray\u001b[0m(\n",
       "  \u001b[33m\u001b[0m(cmd3$$user$Step@7b826543, \u001b[32m0\u001b[0m),\n",
       "  \u001b[33m\u001b[0m(cmd3$$user$Step@2da2e31c, \u001b[32m1\u001b[0m),\n",
       "  \u001b[33m\u001b[0m(cmd3$$user$Step@71713e07, \u001b[32m2\u001b[0m),\n",
       "  \u001b[33m\u001b[0m(cmd3$$user$Step@19a269af, \u001b[32m1\u001b[0m),\n",
       "  \u001b[33m\u001b[0m(cmd3$$user$Step@7162afa5, \u001b[32m3\u001b[0m),\n",
       "  \u001b[33m\u001b[0m(cmd3$$user$Step@4be20896, \u001b[32m4\u001b[0m)\n",
       ")"
      ]
     },
     "metadata": {},
     "output_type": "display_data"
    }
   ],
   "source": [
    "// numder of blocking ops before\n",
    "val qued = ww.foldLeft(nonqueue)((acc, i) => stackify(acc, i))"
   ]
  },
  {
   "cell_type": "code",
   "execution_count": 9,
   "metadata": {},
   "outputs": [
    {
     "data": {
      "text/plain": [
       "defined \u001b[32mfunction \u001b[36mdestackify\u001b[0m"
      ]
     },
     "metadata": {},
     "output_type": "display_data"
    }
   ],
   "source": [
    "def destackify(ar:Array[(Step, Int)]) : (Array[Step], Array[(Step, Int)]) = {\n",
    "    val fl = ar.filter(o => o._2 == 0).map(g => g._1)\n",
    "    val ot = ar.filter(o => o._2 > 0)\n",
    "    val ott = ot.map(o => (o._1, o._2 - fl.count(f => f.t.isDependentOn(o._1.t) && f.i < o._1.i)))\n",
    "    (fl, ott)\n",
    "}"
   ]
  },
  {
   "cell_type": "code",
   "execution_count": 10,
   "metadata": {},
   "outputs": [
    {
     "data": {
      "text/plain": [
       "defined \u001b[32mfunction \u001b[36mprepare\u001b[0m"
      ]
     },
     "metadata": {},
     "output_type": "display_data"
    }
   ],
   "source": [
    "def prepare(a : Array[(Step, Int)], ff: Array[Array[Step]]):Array[Array[Step]] = {\n",
    "    if (a.length == 0) {\n",
    "        //sorry\n",
    "        return ff\n",
    "    } else {\n",
    "        val h = destackify(a)\n",
    "        return prepare(h._2, ff:+h._1)\n",
    "    }\n",
    "}\n",
    "\n"
   ]
  },
  {
   "cell_type": "code",
   "execution_count": 11,
   "metadata": {},
   "outputs": [
    {
     "data": {
      "text/plain": [
       "\u001b[36my\u001b[0m: \u001b[32mArray\u001b[0m[\u001b[32mArray\u001b[0m[\u001b[32mStep\u001b[0m]] = \u001b[33mArray\u001b[0m(\n",
       "  \u001b[33mArray\u001b[0m(cmd3$$user$Step@7b826543),\n",
       "  \u001b[33mArray\u001b[0m(cmd3$$user$Step@2da2e31c, cmd3$$user$Step@19a269af),\n",
       "  \u001b[33mArray\u001b[0m(cmd3$$user$Step@71713e07),\n",
       "  \u001b[33mArray\u001b[0m(cmd3$$user$Step@7162afa5, cmd3$$user$Step@4be20896)\n",
       ")"
      ]
     },
     "metadata": {},
     "output_type": "display_data"
    }
   ],
   "source": [
    "val y = prepare(qued, Array.empty[Array[Step]])"
   ]
  },
  {
   "cell_type": "code",
   "execution_count": 47,
   "metadata": {},
   "outputs": [
    {
     "data": {
      "text/plain": [
       "\u001b[36mres41\u001b[0m: \u001b[32mArray\u001b[0m[\u001b[32mArray\u001b[0m[\u001b[32mInteger\u001b[0m]] = \u001b[33mArray\u001b[0m(\u001b[33mArray\u001b[0m(0), \u001b[33mArray\u001b[0m(1, 3), \u001b[33mArray\u001b[0m(2), \u001b[33mArray\u001b[0m(4, 5))"
      ]
     },
     "metadata": {},
     "output_type": "display_data"
    }
   ],
   "source": [
    "// Ex 1. Floata\n",
    "y.map(u => u.map(s => s.i))\n",
    "// Yay"
   ]
  },
  {
   "cell_type": "code",
   "execution_count": 12,
   "metadata": {},
   "outputs": [
    {
     "data": {
      "text/plain": [
       "\u001b[36mdeps\u001b[0m: \u001b[32mArray\u001b[0m[\u001b[32mArray\u001b[0m[\u001b[32mBoolean\u001b[0m]] = \u001b[33mArray\u001b[0m(\n",
       "  \u001b[33mArray\u001b[0m(false, false, false, false, false, false),\n",
       "  \u001b[33mArray\u001b[0m(true, false, false, false, false, false),\n",
       "  \u001b[33mArray\u001b[0m(true, true, false, false, false, false),\n",
       "  \u001b[33mArray\u001b[0m(true, false, false, false, false, false),\n",
       "  \u001b[33mArray\u001b[0m(false, true, true, true, false, false),\n",
       "  \u001b[33mArray\u001b[0m(true, true, true, true, false, false)\n",
       ")"
      ]
     },
     "metadata": {},
     "output_type": "display_data"
    }
   ],
   "source": [
    "val deps = ww.map(w => ww.map(o => w.t.isDependentOn(o.t) && w.i > o.i))"
   ]
  },
  {
   "cell_type": "code",
   "execution_count": 13,
   "metadata": {},
   "outputs": [
    {
     "data": {
      "text/plain": [
       "\u001b[32mimport \u001b[36mscala.collection.mutable.ArrayBuffer\u001b[0m\n",
       "\u001b[36misAnythingChanged\u001b[0m: \u001b[32mBoolean\u001b[0m = false\n",
       "\u001b[36mD2\u001b[0m: \u001b[32mcollection\u001b[0m.\u001b[32mmutable\u001b[0m.\u001b[32mArrayBuffer\u001b[0m[\u001b[32mcollection\u001b[0m.\u001b[32mmutable\u001b[0m.\u001b[32mArrayBuffer\u001b[0m[\u001b[32mBoolean\u001b[0m]] = \u001b[33mArrayBuffer\u001b[0m(\n",
       "  \u001b[33mArrayBuffer\u001b[0m(false, false, false, false, false, false),\n",
       "  \u001b[33mArrayBuffer\u001b[0m(false, false, false, false, false, false),\n",
       "  \u001b[33mArrayBuffer\u001b[0m(true, false, false, false, false, false),\n",
       "  \u001b[33mArrayBuffer\u001b[0m(false, false, false, false, false, false),\n",
       "  \u001b[33mArrayBuffer\u001b[0m(true, true, false, false, false, false),\n",
       "  \u001b[33mArrayBuffer\u001b[0m(true, true, false, false, false, false)\n",
       ")"
      ]
     },
     "metadata": {},
     "output_type": "display_data"
    }
   ],
   "source": [
    "import scala.collection.mutable.ArrayBuffer\n",
    "\n",
    "var isAnythingChanged : Boolean = true\n",
    "val D2 = ArrayBuffer[ArrayBuffer[Boolean]]()\n",
    "for (y1 <- deps.indices) {\n",
    "    D2 += ArrayBuffer[Boolean]()\n",
    "    for (x1 <- deps(y1).indices) {\n",
    "        D2(y1) += false;\n",
    "    }\n",
    "}\n",
    "\n",
    "\n",
    "\n",
    "while (isAnythingChanged) {\n",
    "    val cp = D2.map(o => o.map(x => x))\n",
    "    for (y1 <- deps.indices) {\n",
    "        for (x1 <- deps(y1).indices) {\n",
    "            for (w <- deps.indices) {\n",
    "                D2(y1)(x1) = D2(y1)(x1) || (deps(y1)(w) && deps(w)(x1) && y1 > w && w > x1)\n",
    "            }\n",
    "        }\n",
    "    }\n",
    "    \n",
    "    isAnythingChanged = false\n",
    "    \n",
    "    for (y1 <- deps.indices) {\n",
    "        for (x1 <- deps(y1).indices) {\n",
    "            isAnythingChanged = isAnythingChanged || D2(y1)(x1) != cp(y1)(x1)\n",
    "        }\n",
    "    }\n",
    "}\n",
    "\n"
   ]
  },
  {
   "cell_type": "code",
   "execution_count": 14,
   "metadata": {},
   "outputs": [
    {
     "data": {
      "text/plain": [
       "\u001b[36mindirDeps\u001b[0m: \u001b[32mArrayBuffer\u001b[0m[\u001b[32mArrayBuffer\u001b[0m[\u001b[32mBoolean\u001b[0m]] = \u001b[33mArrayBuffer\u001b[0m(\n",
       "  \u001b[33mArrayBuffer\u001b[0m(false, false, false, false, false, false),\n",
       "  \u001b[33mArrayBuffer\u001b[0m(true, false, false, false, false, false),\n",
       "  \u001b[33mArrayBuffer\u001b[0m(false, true, false, false, false, false),\n",
       "  \u001b[33mArrayBuffer\u001b[0m(true, false, false, false, false, false),\n",
       "  \u001b[33mArrayBuffer\u001b[0m(false, false, true, true, false, false),\n",
       "  \u001b[33mArrayBuffer\u001b[0m(false, false, true, true, false, false)\n",
       ")"
      ]
     },
     "metadata": {},
     "output_type": "display_data"
    }
   ],
   "source": [
    "val indirDeps = ArrayBuffer[ArrayBuffer[Boolean]]()\n",
    "for (y1 <- deps.indices) {\n",
    "    indirDeps += ArrayBuffer[Boolean]()\n",
    "    for (x1 <- deps(y1).indices) {\n",
    "        indirDeps(y1) += false;\n",
    "    }\n",
    "}\n",
    "\n",
    "for (y1 <- deps.indices) {\n",
    "    for (x1 <- deps(y1).indices) {\n",
    "        indirDeps(y1)(x1) = deps(y1)(x1) && !D2(y1)(x1)\n",
    "    }\n",
    "}"
   ]
  },
  {
   "cell_type": "code",
   "execution_count": 15,
   "metadata": {},
   "outputs": [
    {
     "name": "stdout",
     "output_type": "stream",
     "text": [
      "http://www.webgraphviz.com/\n",
      "digraph G {\n",
      "  0 -> 1\n",
      "  1 -> 2\n",
      "  0 -> 3\n",
      "  2 -> 4\n",
      "  3 -> 4\n",
      "  2 -> 5\n",
      "  3 -> 5\n",
      "}\n"
     ]
    },
    {
     "data": {
      "text/plain": []
     },
     "metadata": {},
     "output_type": "display_data"
    }
   ],
   "source": [
    "// ex 2\n",
    "println(\"http://www.webgraphviz.com/\")\n",
    "println(\"digraph G {\")\n",
    "for (y1 <- indirDeps.indices) {\n",
    "    for (x1 <- indirDeps(y1).indices) {\n",
    "        if (indirDeps(y1)(x1)) {\n",
    "            println(\"  \" + x1 + \" -> \" + y1)\n",
    "        }\n",
    "    }\n",
    "}\n",
    "println(\"}\")"
   ]
  },
  {
   "cell_type": "code",
   "execution_count": 16,
   "metadata": {},
   "outputs": [
    {
     "name": "stdout",
     "output_type": "stream",
     "text": [
      "\n",
      "[0 ]\n",
      "\n",
      "[1 3 ]\n",
      "\n",
      "[2 ]\n",
      "\n",
      "[4 5 ]\n"
     ]
    },
    {
     "data": {
      "text/plain": [
       "\u001b[36mpardeps\u001b[0m: \u001b[32mArrayBuffer\u001b[0m[(\u001b[32mInt\u001b[0m, \u001b[32mInt\u001b[0m)] = \u001b[33mArrayBuffer\u001b[0m()\n",
       "\u001b[36mwds\u001b[0m: \u001b[32mArray\u001b[0m[\u001b[32mInteger\u001b[0m] = \u001b[33mArray\u001b[0m(0, 1, 2, 3, 4, 5)\n",
       "\u001b[36mprinted\u001b[0m: \u001b[32mArrayBuffer\u001b[0m[\u001b[32mInt\u001b[0m] = \u001b[33mArrayBuffer\u001b[0m(\u001b[32m0\u001b[0m, \u001b[32m1\u001b[0m, \u001b[32m3\u001b[0m, \u001b[32m2\u001b[0m, \u001b[32m4\u001b[0m, \u001b[32m5\u001b[0m)\n",
       "\u001b[36mdoItOnceMore\u001b[0m: \u001b[32mBoolean\u001b[0m = false"
      ]
     },
     "metadata": {},
     "output_type": "display_data"
    }
   ],
   "source": [
    "// ex 3\n",
    "var pardeps = ArrayBuffer[(Int, Int)]()\n",
    "for (y1 <- indirDeps.indices) {\n",
    "    for (x1 <- indirDeps(y1).indices) {\n",
    "        if (indirDeps(y1)(x1)) {\n",
    "            pardeps += ((x1, y1))\n",
    "        }\n",
    "    }\n",
    "}\n",
    "\n",
    "var wds = ww.map(w => w.i)\n",
    "\n",
    "val printed = ArrayBuffer[Int]()\n",
    "\n",
    "var doItOnceMore = true\n",
    "\n",
    "while (pardeps.length != 0 || doItOnceMore){\n",
    "    if (pardeps.length == 0) {\n",
    "        doItOnceMore = false\n",
    "    }\n",
    "    var floatable = wds.filter(w => pardeps.count(p => p._2 == w) == 0 && !printed.contains(w))\n",
    "    println(\"\")\n",
    "    print(\"[\")\n",
    "    for (y1 <- floatable) {\n",
    "        printed += y1;\n",
    "        print(y1 + \" \")\n",
    "    }\n",
    "    print(\"]\")\n",
    "    println(\"\")\n",
    "    pardeps = pardeps.filter(p => floatable.count(w => w == p._1) == 0)\n",
    "}\n"
   ]
  }
 ],
 "metadata": {
  "kernelspec": {
   "display_name": "Scala 2.11",
   "language": "scala211",
   "name": "scala211"
  },
  "language_info": {
   "codemirror_mode": "text/x-scala",
   "file_extension": ".scala",
   "mimetype": "text/x-scala",
   "name": "scala211",
   "pygments_lexer": "scala",
   "version": "2.11.6"
  }
 },
 "nbformat": 4,
 "nbformat_minor": 2
}
